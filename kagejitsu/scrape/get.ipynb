{
 "cells": [
  {
   "cell_type": "code",
   "execution_count": 8,
   "metadata": {},
   "outputs": [],
   "source": [
    "from bs4 import BeautifulSoup as bs4\n",
    "import requests"
   ]
  },
  {
   "cell_type": "code",
   "execution_count": null,
   "metadata": {},
   "outputs": [],
   "source": [
    "link = \"https://musworldnovel.wordpress.com/2021/04/06/light-novel-kage-no-jitsuryokusha-ni-naritakute-bahasa-indonesia/\"\n",
    "req = requests.get(link)\n",
    "\n",
    "if req.status_code != 200:\n",
    "    exit()\n",
    "\n",
    "soup = bs4(req.text, \"html.parser\")\n",
    "\n",
    "page_link = [i for i in [i[\"href\"] for i in soup.find_all(\"a\",{\"rel\":\"noreferrer noopener\"})] if \"ouo.io\" not in i]\n",
    "tag = []"
   ]
  },
  {
   "cell_type": "code",
   "execution_count": null,
   "metadata": {},
   "outputs": [],
   "source": [
    "for full_tag in soup.find_all(\"p\"):\n",
    "    if full_tag == '<p class=\"comment-form-posting-as pa-wordpress\">':\n",
    "         break\n",
    "    print(full_tag)\n",
    "    if full_tag.find(\"strong\") != None and full_tag.find(\"strong\").find(\"a\") != None and full_tag.strong.a.text != \"Penutup\":\n",
    "            tag.append(full_tag)\n",
    "\n",
    "\n",
    "# [i.text for i in tag]"
   ]
  },
  {
   "cell_type": "code",
   "execution_count": null,
   "metadata": {},
   "outputs": [],
   "source": [
    "tag"
   ]
  },
  {
   "attachments": {},
   "cell_type": "markdown",
   "metadata": {},
   "source": [
    "Mengambil teks novel"
   ]
  },
  {
   "cell_type": "code",
   "execution_count": null,
   "metadata": {},
   "outputs": [],
   "source": [
    "link = \"https://musworldnovel.wordpress.com/2021/04/06/light-novel-kage-no-jitsuryokusha-ni-naritakute-vol-1-prolog-bahasa-indonesia/\"\n",
    "req = requests.get(link)\n",
    "if req.status_code != 200: exit(100)\n",
    "\n",
    "soup = bs4(req.text, \"html.parser\")"
   ]
  },
  {
   "cell_type": "code",
   "execution_count": null,
   "metadata": {},
   "outputs": [],
   "source": [
    "soup.find_all(\"figure\",\"wp-block-image\")"
   ]
  }
 ],
 "metadata": {
  "kernelspec": {
   "display_name": "Python 3",
   "language": "python",
   "name": "python3"
  },
  "language_info": {
   "codemirror_mode": {
    "name": "ipython",
    "version": 3
   },
   "file_extension": ".py",
   "mimetype": "text/x-python",
   "name": "python",
   "nbconvert_exporter": "python",
   "pygments_lexer": "ipython3",
   "version": "3.10.6"
  },
  "orig_nbformat": 4
 },
 "nbformat": 4,
 "nbformat_minor": 2
}
