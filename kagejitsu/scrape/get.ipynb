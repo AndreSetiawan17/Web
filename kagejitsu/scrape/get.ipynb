{
 "cells": [
  {
   "cell_type": "code",
   "execution_count": 2,
   "metadata": {},
   "outputs": [],
   "source": [
    "from bs4 import BeautifulSoup as bs4\n",
    "import requests"
   ]
  },
  {
   "cell_type": "code",
   "execution_count": 7,
   "metadata": {},
   "outputs": [],
   "source": [
    "link = \"https://musworldnovel.wordpress.com/2021/04/06/light-novel-kage-no-jitsuryokusha-ni-naritakute-bahasa-indonesia/\"\n",
    "req = requests.get(link)\n",
    "\n",
    "if req.status_code != 200:\n",
    "    exit()\n",
    "\n",
    "soup = bs4(req.text, \"html.parser\")\n",
    "\n",
    "full_tag = []"
   ]
  },
  {
   "cell_type": "code",
   "execution_count": 31,
   "metadata": {},
   "outputs": [],
   "source": [
    "for tg in soup.find_all(\"p\"):\n",
    "    if tg == '<p class=\"comment-form-posting-as pa-wordpress\">': break\n",
    "    if tg.find(\"strong\") != None and tg.find(\"strong\").find(\"a\") != None and tg.strong.a.text != \"Penutup\":\n",
    "            full_tag.append(tg)"
   ]
  },
  {
   "cell_type": "code",
   "execution_count": 33,
   "metadata": {},
   "outputs": [],
   "source": [
    "seg = [\"prolog\",\"chapter1\",\"chapter2\",\"chapter3\",\"chapter4\",\"chapter5\",\"chapter6\",\"chapter7\",\"final\",\"extra\",\"prolog\",\"chapter1\",\"chapter2\",\"chapter3\",\"chapter4\",\"chapter5\",\"chapter6\",\"chapter7\",\"chapter8\",\"final\",\"prolog\",\"chapter1\",\"chapter2\",\"chapter3\",\"chapter4\",\"chapter5\",\"chapter6\",\"epilog\",\"prolog\",\"chapter1\",\"chapter2\",\"chapter3\",\"interlude\",\"chapter4\",\"chapter5\",\"epilog\",\"prolog\",\"chapter1\",\"chapter2\",\"chapter3\",\"chapter4\",\"chapter5\",\"epilog\",]\n",
    "segement = {k:v.text for k,v in zip(seg,full_tag)}\n",
    "\n",
    "#page_link = [i for i in [i[\"href\"] for i in soup.find_all(\"a\",{\"rel\":\"noreferrer noopener\"})] if \"ouo.io\" not in i]\n",
    "page_link = [i.find(\"a\")[\"href\"] for i in full_tag]\n"
   ]
  },
  {
   "cell_type": "code",
   "execution_count": 34,
   "metadata": {},
   "outputs": [
    {
     "data": {
      "text/plain": [
       "['https://musworldnovel.wordpress.com/2021/04/06/light-novel-kage-no-jitsuryokusha-ni-naritakute-vol-1-prolog-bahasa-indonesia/',\n",
       " 'https://musworldnovel.wordpress.com/2021/04/06/light-novel-kage-no-jitsuryokusha-ni-naritakute-vol-1-chapter-1-bahasa-indonesia/',\n",
       " 'https://musworldnovel.wordpress.com/2021/04/06/light-novel-kage-no-jitsuryokusha-ni-naritakute-vol-1-chapter-2-bahasa-indonesia/',\n",
       " 'https://musworldnovel.wordpress.com/2021/04/06/light-novel-kage-no-jitsuryokusha-ni-naritakute-vol-1-chapter-3-bahasa-indonesia/',\n",
       " 'https://musworldnovel.wordpress.com/2021/04/06/light-novel-kage-no-jitsuryokusha-ni-naritakute-vol-1-chapter-4-bahasa-indonesia/',\n",
       " 'https://musworldnovel.wordpress.com/2021/04/06/light-novel-kage-no-jitsuryokusha-ni-naritakute-vol-1-chapter-5-bahasa-indonesia/',\n",
       " 'https://musworldnovel.wordpress.com/2021/04/06/light-novel-kage-no-jitsuryokusha-ni-naritakute-vol-1-chapter-6-bahasa-indonesia/',\n",
       " 'https://musworldnovel.wordpress.com/2021/04/06/light-novel-kage-no-jitsuryokusha-ni-naritakute-vol-1-chapter-7-bahasa-indonesia/',\n",
       " 'https://musworldnovel.wordpress.com/2021/04/06/light-novel-kage-no-jitsuryokusha-ni-naritakute-vol-1-final-chapter-bahasa-indonesia/',\n",
       " 'https://musworldnovel.wordpress.com/2021/04/06/light-novel-kage-no-jitsuryokusha-ni-naritakute-vol-1-extra-bahasa-indonesia/',\n",
       " 'https://musworldnovel.wordpress.com/2021/04/06/light-novel-kage-no-jitsuryokusha-ni-naritakute-vol-1-penutup-bahasa-indonesia/',\n",
       " 'https://musworldnovel.wordpress.com/2021/04/06/light-novel-kage-no-jitsuryokusha-ni-naritakute-vol-2-prolog-bahasa-indonesia/',\n",
       " 'https://musworldnovel.wordpress.com/2021/04/06/light-novel-kage-no-jitsuryokusha-ni-naritakute-vol-2-chapter-1-bahasa-indonesia/',\n",
       " 'https://musworldnovel.wordpress.com/2021/04/06/light-novel-kage-no-jitsuryokusha-ni-naritakute-vol-2-chapter-2-bahasa-indonesia/',\n",
       " 'https://musworldnovel.wordpress.com/2021/04/06/light-novel-kage-no-jitsuryokusha-ni-naritakute-vol-2-chapter-3-bahasa-indonesia/',\n",
       " 'https://musworldnovel.wordpress.com/2021/04/06/light-novel-kage-no-jitsuryokusha-ni-naritakute-vol-2-chapter-4-bahasa-indonesia/',\n",
       " 'https://musworldnovel.wordpress.com/2021/04/06/light-novel-kage-no-jitsuryokusha-ni-naritakute-vol-2-chapter-5-bahasa-indonesia/',\n",
       " 'https://musworldnovel.wordpress.com/2021/04/06/light-novel-kage-no-jitsuryokusha-ni-naritakute-vol-2-chapter-6-bahasa-indonesia/',\n",
       " 'https://musworldnovel.wordpress.com/2021/04/06/light-novel-kage-no-jitsuryokusha-ni-naritakute-vol-2-chapter-7-bahasa-indonesia/',\n",
       " 'https://musworldnovel.wordpress.com/2021/04/06/light-novel-kage-no-jitsuryokusha-ni-naritakute-vol-2-chapter-8-bahasa-indonesia/https://musworldnovel.wordpress.com/2021/04/06/light-novel-kage-no-jitsuryokusha-ni-naritakute-vol-2-chapter-8-bahasa-indonesia/',\n",
       " 'https://musworldnovel.wordpress.com/2021/04/06/light-novel-kage-no-jitsuryokusha-ni-naritakute-vol-2-final-chapter-bahasa-indonesia/',\n",
       " 'https://musworldnovel.wordpress.com/2021/04/06/light-novel-kage-no-jitsuryokusha-ni-naritakute-vol-2-final-chapter-bahasa-indonesia/',\n",
       " 'https://musworldnovel.wordpress.com/2021/04/06/light-novel-kage-no-jitsuryokusha-ni-naritakute-vol-2-final-chapter-bahasa-indonesia/',\n",
       " 'https://musworldnovel.wordpress.com/2021/04/06/light-novel-kage-no-jitsuryokusha-ni-naritakute-vol-2-final-chapter-bahasa-indonesia/',\n",
       " 'https://musworldnovel.wordpress.com/2021/04/06/light-novel-kage-no-jitsuryokusha-ni-naritakute-vol-2-penutup-bahasa-indonesia/',\n",
       " 'https://musworldnovel.wordpress.com/2021/04/06/light-novel-kage-no-jitsuryokusha-ni-naritakute-vol-3-prolog-bahasa-indonesia/',\n",
       " 'https://musworldnovel.wordpress.com/2021/04/07/light-novel-kage-no-jitsuryokusha-ni-naritakute-vol-3-chapter-1-bahasa-indonesia/',\n",
       " 'https://musworldnovel.wordpress.com/2021/04/08/light-novel-kage-no-jitsuryokusha-ni-naritakute-vol-3-chapter-2-bahasa-indonesia/',\n",
       " 'https://musworldnovel.wordpress.com/2021/04/09/light-novel-kage-no-jitsuryokusha-ni-naritakute-vol-3-chapter-3-bahasa-indonesia/',\n",
       " 'https://musworldnovel.wordpress.com/2021/04/09/light-novel-kage-no-jitsuryokusha-ni-naritakute-vol-3-intro-bahasa-indonesia/',\n",
       " 'https://musworldnovel.wordpress.com/2021/04/12/light-novel-kage-no-jitsuryokusha-ni-naritakute-vol-3-chapter-4-bahasa-indonesia/',\n",
       " 'https://musworldnovel.wordpress.com/2021/04/12/light-novel-kage-no-jitsuryokusha-ni-naritakute-vol-3-chapter-5-bahasa-indonesia/',\n",
       " 'https://musworldnovel.wordpress.com/2021/04/13/light-novel-kage-no-jitsuryokusha-ni-naritakute-vol-3-chapter-6-bahasa-indonesia/',\n",
       " 'https://musworldnovel.wordpress.com/2021/04/13/light-novel-kage-no-jitsuryokusha-ni-naritakute-vol-3-epilog-bahasa-indonesia/',\n",
       " 'https://musworldnovel.wordpress.com/2021/03/03/ln-kage-no-jitsuryokusha-ni-naritakute-vol-4-indonesia/',\n",
       " 'https://musworldnovel.wordpress.com/2021/03/03/ln-kage-no-jitsuryokusha-ni-naritakute-vol-4-chapter-1-indonesia/',\n",
       " 'https://musworldnovel.wordpress.com/2021/03/03/ln-kage-no-jitsuryokusha-ni-naritakute-vol-4-chapter-2-indonesia/',\n",
       " 'https://musworldnovel.wordpress.com/2021/03/04/ln-kage-no-jitsuryokusha-ni-naritakute-vol-4-chapter-3-indonesia/',\n",
       " 'https://musworldnovel.wordpress.com/2021/03/07/ln-kage-no-jitsuryokusha-ni-naritakute-vol-4-chapter-3-5-indonesia/',\n",
       " 'https://musworldnovel.wordpress.com/2021/03/07/ln-kage-no-jitsuryokusha-ni-naritakute-vol-4-chapter-4-indonesia/',\n",
       " 'https://musworldnovel.wordpress.com/2021/03/07/light-novel-kage-no-jitsuryokusha-ni-naritakute-vol-4-chapter-5-bahasa-indonesia/',\n",
       " 'https://musworldnovel.wordpress.com/2021/03/08/light-novel-kage-no-jitsuryokusha-ni-naritakute-vol-4-chapter-6-bahasa-indonesia/',\n",
       " 'https://musworldnovel.wordpress.com/2021/03/09/light-novel-kage-no-jitsuryokusha-ni-naritakute-vol-4-chapter-epilog-bahasa-indonesia/']"
      ]
     },
     "execution_count": 34,
     "metadata": {},
     "output_type": "execute_result"
    }
   ],
   "source": [
    "page_link"
   ]
  },
  {
   "attachments": {},
   "cell_type": "markdown",
   "metadata": {},
   "source": [
    "Mengambil teks novel"
   ]
  },
  {
   "cell_type": "code",
   "execution_count": 5,
   "metadata": {},
   "outputs": [],
   "source": [
    "link = \"https://musworldnovel.wordpress.com/2021/04/06/light-novel-kage-no-jitsuryokusha-ni-naritakute-vol-1-prolog-bahasa-indonesia/\"\n",
    "req = requests.get(link)\n",
    "if req.status_code != 200: exit(100)\n",
    "\n",
    "soup = bs4(req.text, \"html.parser\")"
   ]
  },
  {
   "cell_type": "code",
   "execution_count": null,
   "metadata": {},
   "outputs": [],
   "source": [
    "soup.find_all(\"figure\",\"wp-block-image\")"
   ]
  }
 ],
 "metadata": {
  "kernelspec": {
   "display_name": "Python 3",
   "language": "python",
   "name": "python3"
  },
  "language_info": {
   "codemirror_mode": {
    "name": "ipython",
    "version": 3
   },
   "file_extension": ".py",
   "mimetype": "text/x-python",
   "name": "python",
   "nbconvert_exporter": "python",
   "pygments_lexer": "ipython3",
   "version": "3.10.6"
  },
  "orig_nbformat": 4
 },
 "nbformat": 4,
 "nbformat_minor": 2
}
