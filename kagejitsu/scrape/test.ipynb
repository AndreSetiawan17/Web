{
 "cells": [
  {
   "cell_type": "code",
   "execution_count": null,
   "metadata": {},
   "outputs": [],
   "source": [
    "from _main import Get\n",
    "from bs4 import BeautifulSoup\n",
    "\n",
    "\n",
    "alpha = Get()\n",
    "\n",
    "link = [f\"Link{i}\" for i in range(len(alpha.seg))]\n",
    "dct = {f\"v{k+1}\":{} for k in range(len([i for i in alpha.seg if i == \"prolog\"]))}\n",
    "\n",
    "\n",
    "for v in dct.keys():\n",
    "    ...\n",
    "\n",
    "dct"
   ]
  },
  {
   "cell_type": "code",
   "execution_count": 8,
   "metadata": {},
   "outputs": [
    {
     "name": "stdout",
     "output_type": "stream",
     "text": [
      "['']\n",
      "['', 'chapter1', 'chapter2', 'chapter3', 'chapter4', 'chapter5', 'chapter6', 'chapter7', 'final', 'extra', '']\n",
      "['', 'chapter1', 'chapter2', 'chapter3', 'chapter4', 'chapter5', 'chapter6', 'chapter7', 'chapter8', 'final', '']\n",
      "['', 'chapter1', 'chapter2', 'chapter3', 'chapter4', 'chapter5', 'chapter6', 'epilog', '']\n",
      "['', 'chapter1', 'chapter2', 'chapter3', 'interlude', 'chapter4', 'chapter5', 'epilog', '']\n",
      "['', 'chapter1', 'chapter2', 'chapter3', 'chapter4', 'chapter5', 'epilog']\n"
     ]
    }
   ],
   "source": [
    "ls = [\"prolog\",\"chapter1\",\"chapter2\",\"chapter3\",\"chapter4\",\"chapter5\",\"chapter6\",\"chapter7\",\"final\",\"extra\",\"prolog\",\"chapter1\",\"chapter2\",\"chapter3\",\"chapter4\",\"chapter5\",\"chapter6\",\"chapter7\",\"chapter8\",\"final\",\"prolog\",\"chapter1\",\"chapter2\",\"chapter3\",\"chapter4\",\"chapter5\",\"chapter6\",\"epilog\",\"prolog\",\"chapter1\",\"chapter2\",\"chapter3\",\"interlude\",\"chapter4\",\"chapter5\",\"epilog\",\"prolog\",\"chapter1\",\"chapter2\",\"chapter3\",\"chapter4\",\"chapter5\",\"epilog\",]\n",
    "strls = \"+\".join(ls).split(\"prolog\")\n",
    "\n",
    "\n",
    "\n",
    "\n",
    "for i in [i.split(\"+\") for i in strls]:\n",
    "    print(i)"
   ]
  },
  {
   "cell_type": "code",
   "execution_count": 7,
   "metadata": {},
   "outputs": [
    {
     "data": {
      "text/plain": [
       "{'prolog': ['Prolog : Mempersiapkan panggung yang sempurna!',\n",
       "  'https://musworldnovel.wordpress.com/2021/04/06/light-novel-kage-no-jitsuryokusha-ni-naritakute-vol-1-prolog-bahasa-indonesia/'],\n",
       " 'chapter1': ['Chapter 1 : Memulai pelatihan Shadowbroker',\n",
       "  'https://musworldnovel.wordpress.com/2021/04/06/light-novel-kage-no-jitsuryokusha-ni-naritakute-vol-1-chapter-1-bahasa-indonesia/'],\n",
       " 'chapter2': ['Chapter 2 : Mengasumsikan Peran Karakter Sampingan di Sekolah!',\n",
       "  'https://musworldnovel.wordpress.com/2021/04/06/light-novel-kage-no-jitsuryokusha-ni-naritakute-vol-1-chapter-2-bahasa-indonesia/'],\n",
       " 'chapter3': ['Chapter 3 : Resmi , Aku Memulai sebagai Dalang Yang Beraksi! Bagian 1',\n",
       "  'https://musworldnovel.wordpress.com/2021/04/06/light-novel-kage-no-jitsuryokusha-ni-naritakute-vol-1-chapter-3-bahasa-indonesia/'],\n",
       " 'chapter4': ['Chapter 4 : Resmi , Aku Memulai sebagai Dalang Yang Beraksi! Bagian 2',\n",
       "  'https://musworldnovel.wordpress.com/2021/04/06/light-novel-kage-no-jitsuryokusha-ni-naritakute-vol-1-chapter-4-bahasa-indonesia/'],\n",
       " 'chapter5': ['Chapter 5 : Dua Sisi Shadow Garden ?!',\n",
       "  'https://musworldnovel.wordpress.com/2021/04/06/light-novel-kage-no-jitsuryokusha-ni-naritakute-vol-1-chapter-5-bahasa-indonesia/'],\n",
       " 'chapter6': ['Chapter 6 : Menguasai Kehidupan Damai dari Tak Seorang Pun!',\n",
       "  'https://musworldnovel.wordpress.com/2021/04/06/light-novel-kage-no-jitsuryokusha-ni-naritakute-vol-1-chapter-6-bahasa-indonesia/'],\n",
       " 'chapter7': ['Chapter 7 : Adegan Di Mana Teroris Mengambil Alih Sekolah',\n",
       "  'https://musworldnovel.wordpress.com/2021/04/06/light-novel-kage-no-jitsuryokusha-ni-naritakute-vol-1-chapter-7-bahasa-indonesia/'],\n",
       " 'final': ['Final Chapter : Ideku tentang Komandan Shadow Tertinggi!',\n",
       "  'https://musworldnovel.wordpress.com/2021/04/06/light-novel-kage-no-jitsuryokusha-ni-naritakute-vol-1-final-chapter-bahasa-indonesia/'],\n",
       " 'extra': ['Extra Chapter : Catatan Kejadian Master Shadow Lengkap',\n",
       "  'https://musworldnovel.wordpress.com/2021/04/06/light-novel-kage-no-jitsuryokusha-ni-naritakute-vol-1-extra-bahasa-indonesia/']}"
      ]
     },
     "execution_count": 7,
     "metadata": {},
     "output_type": "execute_result"
    }
   ],
   "source": [
    "from _main import Get; alpha = Get()\n",
    "data = alpha.get_segment() \n",
    "\n",
    "\n",
    "\n",
    "data[\"v1\"]"
   ]
  }
 ],
 "metadata": {
  "kernelspec": {
   "display_name": "python",
   "language": "python",
   "name": "python3"
  },
  "language_info": {
   "codemirror_mode": {
    "name": "ipython",
    "version": 3
   },
   "file_extension": ".py",
   "mimetype": "text/x-python",
   "name": "python",
   "nbconvert_exporter": "python",
   "pygments_lexer": "ipython3",
   "version": "3.10.6"
  },
  "orig_nbformat": 4
 },
 "nbformat": 4,
 "nbformat_minor": 2
}
