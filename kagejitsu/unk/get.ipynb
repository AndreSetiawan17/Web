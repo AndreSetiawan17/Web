{
 "cells": [
  {
   "cell_type": "code",
   "execution_count": 2,
   "metadata": {},
   "outputs": [],
   "source": [
    "from bs4 import BeautifulSoup as bs4\n",
    "import requests"
   ]
  },
  {
   "attachments": {},
   "cell_type": "markdown",
   "metadata": {},
   "source": [
    "Image Download"
   ]
  },
  {
   "cell_type": "code",
   "execution_count": 3,
   "metadata": {},
   "outputs": [],
   "source": [
    "# link = \"https://musworldnovel.wordpress.com/2021/04/06/light-novel-kage-no-jitsuryokusha-ni-naritakute-bahasa-indonesia/\"\n",
    "# req = requests.get(link)\n",
    "# if req.status_code != 200: exit\n",
    "# soup = bs4(req.text, \"html.parser\")\n",
    "# for no, link in enumerate([i.find(\"img\") for i in soup.find_all(\"figure\", \"aligncenter size-large\")]):\n",
    "#     # link = \"https://musworldnovel.files.wordpress.com/2022/10/1.jpeg?w=725\"\n",
    "#     req = requests.get(link[\"src\"])\n",
    "#     with open(f\"cover{no+1}.jpg\",\"wb\") as f:\n",
    "#         f.write(req.content)"
   ]
  },
  {
   "attachments": {},
   "cell_type": "markdown",
   "metadata": {},
   "source": [
    "Create Table"
   ]
  },
  {
   "cell_type": "code",
   "execution_count": null,
   "metadata": {},
   "outputs": [],
   "source": []
  },
  {
   "cell_type": "code",
   "execution_count": 4,
   "metadata": {},
   "outputs": [],
   "source": [
    "link = \"https://musworldnovel.wordpress.com/2021/04/06/light-novel-kage-no-jitsuryokusha-ni-naritakute-bahasa-indonesia/\"\n",
    "req = requests.get(link)\n",
    "\n",
    "if req.status_code != 200:\n",
    "    exit\n",
    "\n",
    "soup = bs4(req.text, \"html.parser\")\n",
    "\n",
    "page_link = [i for i in [i[\"href\"] for i in soup.find_all(\"a\",{\"rel\":\"noreferrer noopener\"})] if \"ouo.io\" not in i]\n",
    "tag = []"
   ]
  },
  {
   "cell_type": "code",
   "execution_count": 5,
   "metadata": {},
   "outputs": [],
   "source": [
    "for full_tag in soup.find_all(\"p\"):\n",
    "    if full_tag == '<p class=\"comment-form-posting-as pa-wordpress\">':\n",
    "         break\n",
    "    if full_tag.find(\"strong\") != None and full_tag.find(\"strong\").find(\"a\") != None and full_tag.strong.a.text != \"Penutup\":\n",
    "            tag.append(full_tag)"
   ]
  },
  {
   "cell_type": "code",
   "execution_count": 6,
   "metadata": {},
   "outputs": [],
   "source": [
    "# from os import system\n",
    "# for i in tag:\n",
    "#     system(f'firefox {i.strong.a[\"href\"]}')"
   ]
  },
  {
   "cell_type": "code",
   "execution_count": 9,
   "metadata": {},
   "outputs": [
    {
     "data": {
      "text/plain": [
       "['Prolog :  Mempersiapkan panggung yang sempurna!',\n",
       " 'Chapter 1 : Memulai pelatihan Shadowbroker',\n",
       " 'Chapter 2 : Mengasumsikan Peran Karakter Sampingan di Sekolah!',\n",
       " 'Chapter 3 : Resmi , Aku Memulai sebagai Dalang Yang Beraksi! Bagian 1',\n",
       " 'Chapter 4 : Resmi , Aku Memulai sebagai Dalang Yang Beraksi! Bagian 2',\n",
       " 'Chapter 5 : Dua Sisi Shadow Garden ?!',\n",
       " 'Chapter 6 : Menguasai Kehidupan Damai dari Tak Seorang Pun!',\n",
       " 'Chapter 7 : Adegan Di Mana Teroris Mengambil Alih Sekolah',\n",
       " 'Final Chapter : Ideku tentang Komandan Shadow Tertinggi!',\n",
       " 'Extra Chapter : Catatan Kejadian Master Shadow Lengkap',\n",
       " 'Prolog : Untuk Lindwurm, Tanah Suci!',\n",
       " 'Chapter 1 : Saat-saat Menyenangkan di Ujian Dewi!',\n",
       " 'Chapter 2 : Menyelidiki Tempat Suci!',\n",
       " 'Chapter 3 : Ketika Segala Sesuatu Menjadi Membosankan, Saatnya Meledak!',\n",
       " 'Chapter 4 : Situasi Ini Menyebutkan “Siapa Orang Itu ?!”',\n",
       " 'Chapter 5 : Pertarungan untuk Menarik MVP Saja!',\n",
       " 'Chapter 6 : Mastermind Selalu Memainkan Piano di Bawah Cahaya Bulan!',\n",
       " 'Chapter 7 : Memamerkan Sedikit Kekuatanku sendiri!',\n",
       " 'Chapter 8 : Arahkan Matamu Pada Kekuatan Sejatiku!',\n",
       " 'Final Chapter : Siapa Orang Keren Misterius Ini ?!',\n",
       " 'Prolog : Dalam perjalanan ke kota tanpa hukum saat liburan musim gugur',\n",
       " 'Chapter 1 : Ayo berburu bandit di kota!',\n",
       " 'Chapter 2 : Infiltrasi di menara merah!',\n",
       " 'Chapter 3 : Pergi untuk Ratu Darah!',\n",
       " 'Chapter 4 : Aku akan menghancurkan segalanya dan kemudian memperbaruinya!',\n",
       " 'Chapter 5 : Membuat uang palsu diam-diam, sementaraMitsugoshi dan Asosiasi Perdagangan Besar saling bertarung!',\n",
       " 'Chapter 6 : Ayo bagikan Uang Palsu itu!',\n",
       " 'Epilog : Uang palsu akan menghancurkan segalanya dan mengambilnya kembali.',\n",
       " 'Prolog : \\xa0Perang di Kerajaan Oriana!',\n",
       " 'Chapter 1 : Hindari Pernikahan Rose Oriana!',\n",
       " 'Chapter 2 : Menerapkan Rencana untuk Menghentikan Pernikahan!',\n",
       " 'Chapter 3 : Terlibat dalam Acara Pernikahan!',\n",
       " 'Interlude : Pemburu Bandit, Slayer the Graceful, memasuki tempat kejadian!',\n",
       " 'Chapter 4 : Bersembunyi dalam Bayangan Jepang yang misterius!',\n",
       " 'Chapter 5 : Dalam bayang-bayang Jepang nostalgia ku!',\n",
       " 'Epilog : Lihatlah Shadow Eminence yang Dikembangkan!',\n",
       " 'Prolog : Kegelapan yang mengintai di sekolah, kasus siswa yang hilang! ',\n",
       " 'Chapter 1 : Kembalinya kakakku dan perkembangan penyakitnya…! ',\n",
       " 'Chapter 2 : Pagi mengejutkan, pembunuhan di sekolah! ',\n",
       " 'Chapter 3 : Kasusnya ditutup, ayo kita bicarakan tentang cerita lama! ',\n",
       " 'Chapter 4 : Hari ini dunia kembali damai! ',\n",
       " 'Chapter 5 : Teroris di akademi lagi!!!',\n",
       " 'Epilog : Jika aku bisa mendapatkannya, aku bisa menghancurkan dunia!']"
      ]
     },
     "execution_count": 9,
     "metadata": {},
     "output_type": "execute_result"
    }
   ],
   "source": [
    "[i.text for i in tag]"
   ]
  }
 ],
 "metadata": {
  "kernelspec": {
   "display_name": "Python 3",
   "language": "python",
   "name": "python3"
  },
  "language_info": {
   "codemirror_mode": {
    "name": "ipython",
    "version": 3
   },
   "file_extension": ".py",
   "mimetype": "text/x-python",
   "name": "python",
   "nbconvert_exporter": "python",
   "pygments_lexer": "ipython3",
   "version": "3.10.6"
  },
  "orig_nbformat": 4
 },
 "nbformat": 4,
 "nbformat_minor": 2
}
