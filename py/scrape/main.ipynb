{
 "cells": [
  {
   "cell_type": "code",
   "execution_count": null,
   "metadata": {},
   "outputs": [],
   "source": [
    "from _main import Get\n",
    "get = Get()"
   ]
  },
  {
   "cell_type": "code",
   "execution_count": null,
   "metadata": {},
   "outputs": [],
   "source": [
    "# paragraf = get.get_all_paragraf()\n",
    "paragraf = get.get_paragraf([\"v5\",\"prolog\"])\n",
    "paragraf"
   ]
  },
  {
   "cell_type": "code",
   "execution_count": null,
   "metadata": {},
   "outputs": [],
   "source": [
    "\"\"\"\n",
    "    v -> Volume\n",
    "    stp -> segment,title,paragraph\n",
    "    s -> segment\n",
    "    t -> title\n",
    "\"\"\"\n",
    "\n",
    "# paragraf[0][\"chapter4\"][1].replace(\"\\xa0\",\" \")\n",
    "\n",
    "for i,vstp in enumerate(zip(get.segment.keys(),get.segment.values())):\n",
    "    v,stp = vstp\n",
    "    for s,t in zip(stp.keys(),[i[0] for i in stp.values()]):\n",
    "        print(v,s,t)\n",
    "        print(paragraf[i][s])\n",
    "    break"
   ]
  }
 ],
 "metadata": {
  "kernelspec": {
   "display_name": "python",
   "language": "python",
   "name": "python3"
  },
  "language_info": {
   "codemirror_mode": {
    "name": "ipython",
    "version": 3
   },
   "file_extension": ".py",
   "mimetype": "text/x-python",
   "name": "python",
   "nbconvert_exporter": "python",
   "pygments_lexer": "ipython3",
   "version": "3.10.12"
  },
  "orig_nbformat": 4
 },
 "nbformat": 4,
 "nbformat_minor": 2
}
