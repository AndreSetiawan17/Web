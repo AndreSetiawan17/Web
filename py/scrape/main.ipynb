{
 "cells": [
  {
   "cell_type": "code",
   "execution_count": null,
   "metadata": {},
   "outputs": [],
   "source": [
    "from _main import Get\n",
    "get = Get()"
   ]
  },
  {
   "cell_type": "code",
   "execution_count": null,
   "metadata": {},
   "outputs": [],
   "source": [
    "paragraf = get.get_all_paragraf()"
   ]
  },
  {
   "cell_type": "code",
   "execution_count": null,
   "metadata": {},
   "outputs": [],
   "source": [
    "\"\"\"\n",
    "    v -> Volume\n",
    "    stp -> segment,title,paragraph\n",
    "    s -> segment\n",
    "    t -> title\n",
    "\"\"\"\n",
    "\n",
    "# paragraf[0][\"chapter4\"][1].replace(\"\\xa0\",\" \")\n",
    "\n",
    "for i,vstp in enumerate(zip(get.segment.keys(),get.segment.values())):\n",
    "    v,stp = vstp\n",
    "    for s,t in zip(stp.keys(),[i[0] for i in stp.values()]):\n",
    "        print(v,s,t)\n",
    "        print(paragraf[i][s])\n",
    "    break"
   ]
  },
  {
   "cell_type": "code",
   "execution_count": null,
   "metadata": {},
   "outputs": [],
   "source": [
    "from dotenv.main import load_dotenv\n",
    "from os          import getenv\n",
    "\n",
    "from _main import Database\n",
    "load_dotenv(\"../../.env\")\n",
    "\n",
    "conf = {\n",
    "    'username':getenv(\"DB_USERNAME\"),\n",
    "    'password':getenv(\"DB_PASSWORD\"),\n",
    "    'database':\"test\",#getenv(\"DB_USE\")\n",
    "\n",
    "    # 'autocommit':True\n",
    "}; db = Database(**conf)\n",
    "\n",
    "db.create_table(\"kagejitsu\")\n",
    "db.commit()\n",
    "print(db.tables)\n",
    "\n",
    "db.close()"
   ]
  }
 ],
 "metadata": {
  "kernelspec": {
   "display_name": "python",
   "language": "python",
   "name": "python3"
  },
  "language_info": {
   "codemirror_mode": {
    "name": "ipython",
    "version": 3
   },
   "file_extension": ".py",
   "mimetype": "text/x-python",
   "name": "python",
   "nbconvert_exporter": "python",
   "pygments_lexer": "ipython3",
   "version": "3.10.12"
  },
  "orig_nbformat": 4
 },
 "nbformat": 4,
 "nbformat_minor": 2
}
