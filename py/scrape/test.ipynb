{
 "cells": [
  {
   "cell_type": "markdown",
   "metadata": {},
   "source": [
    "\n",
    "\\u201d: Representasi karakter unicode untuk tanda kutip bergelombang tertutup (”).\n",
    "\n",
    "\\u0022: Representasi karakter unicode untuk tanda kutip ganda (\").\n",
    "\n",
    "\\u0027: Representasi karakter unicode untuk tanda kutip tunggal (').\n",
    "\n",
    "\\u0026: Representasi karakter unicode untuk tanda &.\n",
    "\n",
    "\\u003c: Representasi karakter unicode untuk tanda <.\n",
    "\n",
    "\\u003e: Representasi karakter unicode untuk tanda >."
   ]
  },
  {
   "cell_type": "code",
   "execution_count": null,
   "metadata": {},
   "outputs": [],
   "source": [
    "from _main  import Get; alpha = Get()\n",
    "from bs4    import BeautifulSoup as bs4\n",
    "from dotenv import load_dotenv\n",
    "from os     import system as command\n",
    "import mysql.connector\n",
    "import requests\n",
    "import json\n",
    "import os\n",
    "\n",
    "data = alpha.get_all_paragraf(prn=True)"
   ]
  },
  {
   "cell_type": "code",
   "execution_count": null,
   "metadata": {},
   "outputs": [],
   "source": [
    "load_dotenv(\"../../.env\")\n",
    "with mysql.connector.connect(\n",
    "    username=os.getenv(\"DB_USERNAME\"),\n",
    "    password=os.getenv(\"DB_PASSWORD\"),\n",
    "    database=os.getenv(\"DB_USE\")\n",
    ") as conn:\n",
    "    with conn.cursor() as cur:\n",
    "        for v in range(len(data)):\n",
    "            for segment,paragraf in zip([i.keys() for i in alpha.segment.values()][v],data):\n",
    "                # cur.execute(f\"UPDATE kate SET paragraph='{json.dumps(paragraf)}' WHERE volume={v} AND segment='{segment}';\")\n",
    "                print(f\"{v}. {segment}, {data}\")\n",
    "            # conn.commit()"
   ]
  },
  {
   "cell_type": "code",
   "execution_count": null,
   "metadata": {},
   "outputs": [],
   "source": [
    "for v in range(len(data)):\n",
    "    for segment,paragraf in zip([i.keys() for i in alpha.segment.values()][v],data):\n",
    "        # cur.execute(f\"UPDATE kate SET paragraph='{json.dumps(paragraf)}' WHERE volume={v} AND segment='{segment}';\")\n",
    "        print(f\"{v}. {segment}, {paragraf}\")"
   ]
  }
 ],
 "metadata": {
  "kernelspec": {
   "display_name": "Python 3 (ipykernel)",
   "language": "python",
   "name": "python3"
  },
  "language_info": {
   "codemirror_mode": {
    "name": "ipython",
    "version": 3
   },
   "file_extension": ".py",
   "mimetype": "text/x-python",
   "name": "python",
   "nbconvert_exporter": "python",
   "pygments_lexer": "ipython3",
   "version": "3.10.6"
  },
  "orig_nbformat": 4
 },
 "nbformat": 4,
 "nbformat_minor": 2
}
