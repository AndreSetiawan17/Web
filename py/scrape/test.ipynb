{
 "cells": [
  {
   "cell_type": "code",
   "execution_count": 1,
   "metadata": {},
   "outputs": [
    {
     "name": "stdout",
     "output_type": "stream",
     "text": [
      "Complete: v1->prolog\n",
      "Complete: v1->chapter1\n",
      "Complete: v1->chapter2\n",
      "Complete: v1->chapter3\n",
      "Complete: v1->chapter4\n",
      "Complete: v1->chapter5\n",
      "Complete: v1->chapter6\n",
      "Complete: v1->chapter7\n",
      "Complete: v1->final\n",
      "Complete: v1->extra\n",
      "Complete: v2->prolog\n",
      "Complete: v2->chapter1\n",
      "Complete: v2->chapter2\n",
      "Complete: v2->chapter3\n",
      "Complete: v2->chapter4\n",
      "Complete: v2->chapter5\n",
      "Complete: v2->chapter6\n",
      "Complete: v2->chapter7\n",
      "Complete: v2->chapter8\n",
      "Complete: v2->final\n",
      "Complete: v3->prolog\n",
      "Complete: v3->chapter1\n",
      "Complete: v3->chapter2\n",
      "Complete: v3->chapter3\n",
      "Complete: v3->chapter4\n",
      "Complete: v3->chapter5\n",
      "Complete: v3->chapter6\n",
      "Complete: v3->epilog\n",
      "Complete: v4->prolog\n",
      "Complete: v4->chapter1\n",
      "Complete: v4->chapter2\n",
      "Complete: v4->chapter3\n",
      "Complete: v4->interlude\n",
      "Complete: v4->chapter4\n",
      "Complete: v4->chapter5\n",
      "Complete: v4->epilog\n",
      "Complete: v4->extra\n",
      "Complete: v5->prolog\n",
      "Complete: v5->chapter1\n",
      "Complete: v5->chapter2\n",
      "Complete: v5->chapter3\n",
      "Complete: v5->chapter4\n",
      "Complete: v5->chapter5\n",
      "Complete: v5->epilog\n",
      "Complete: v5->extra\n"
     ]
    }
   ],
   "source": [
    "from _main  import Get; alpha = Get()\n",
    "from bs4    import BeautifulSoup as bs4\n",
    "from dotenv.main import load_dotenv\n",
    "from os     import system as command\n",
    "import mysql.connector\n",
    "import requests\n",
    "import json\n",
    "import os\n",
    "\n",
    "data = alpha.get_all_paragraf(prn=True)"
   ]
  },
  {
   "cell_type": "code",
   "execution_count": 2,
   "metadata": {},
   "outputs": [],
   "source": [
    "load_dotenv(\"../../.env\")\n",
    "with mysql.connector.connect(\n",
    "    username=os.getenv(\"DB_USERNAME\"),\n",
    "    password=os.getenv(\"DB_PASSWORD\"),\n",
    "    database=os.getenv(\"DB_USE\")\n",
    ") as conn:\n",
    "    with conn.cursor() as cur:\n",
    "        # cur.execute(f\"UPDATE kate SET paragraph='{json.dumps(paragraf)}' WHERE volume={v} AND segment='{segment}';\")\n",
    "        for volume,segment_all in enumerate([i for i in [i.keys() for i in alpha.segment.values()]]):\n",
    "            for segment in segment_all:\n",
    "                data_json = json.dumps(data[volume][segment])\n",
    "                query = \"UPDATE kagejitsu SET paragraph = %s WHERE volume = %s AND segment = %s\"\n",
    "                # cur.execute(f'UPDATE kate SET paragraph=\"{data_json}\" WHERE volume={volume+1} AND segment=\"{segment}\"')\n",
    "                values = (data_json,volume+1,segment)\n",
    "                cur.execute(query,values)\n",
    "    conn.commit()\n"
   ]
  }
 ],
 "metadata": {
  "kernelspec": {
   "display_name": "Python 3 (ipykernel)",
   "language": "python",
   "name": "python3"
  },
  "language_info": {
   "codemirror_mode": {
    "name": "ipython",
    "version": 3
   },
   "file_extension": ".py",
   "mimetype": "text/x-python",
   "name": "python",
   "nbconvert_exporter": "python",
   "pygments_lexer": "ipython3",
   "version": "3.10.6"
  },
  "orig_nbformat": 4
 },
 "nbformat": 4,
 "nbformat_minor": 2
}
