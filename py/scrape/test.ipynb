{
 "cells": [
  {
   "cell_type": "code",
   "execution_count": null,
   "metadata": {},
   "outputs": [],
   "source": [
    "from _main  import Get; alpha = Get()\n",
    "from bs4    import BeautifulSoup as bs4\n",
    "from dotenv.main import load_dotenv\n",
    "from os     import system as command\n",
    "import mysql.connector\n",
    "import requests\n",
    "import json\n",
    "import os\n",
    "\n",
    "data = alpha.get_all_paragraf(prn=True)"
   ]
  },
  {
   "cell_type": "code",
   "execution_count": null,
   "metadata": {},
   "outputs": [],
   "source": [
    "load_dotenv(\"../../.env\")\n",
    "with mysql.connector.connect(\n",
    "    username=os.getenv(\"DB_USERNAME\"),\n",
    "    password=os.getenv(\"DB_PASSWORD\"),\n",
    "    database=\"test\"#os.getenv(\"DB_USE\")\n",
    ") as conn:\n",
    "    with conn.cursor() as cur:\n",
    "        # cur.execute(f\"UPDATE kate SET paragraph='{json.dumps(paragraf)}' WHERE volume={v} AND segment='{segment}';\")\n",
    "        for volume,segment_all in enumerate([i for i in [i.keys() for i in alpha.segment.values()]]):\n",
    "            for segment in segment_all:\n",
    "                data_json = json.dumps(data[volume][segment])\n",
    "                query = \"UPDATE kagejitsu SET paragraph = %s WHERE volume = %s AND segment = %s\"\n",
    "                # cur.execute(f'UPDATE kate SET paragraph=\"{data_json}\" WHERE volume={volume+1} AND segment=\"{segment}\"')\n",
    "                values = (data_json,volume+1,segment)\n",
    "                cur.execute(query,values)\n",
    "    conn.commit()\n"
   ]
  }
 ],
 "metadata": {
  "kernelspec": {
   "display_name": "Python 3 (ipykernel)",
   "language": "python",
   "name": "python3"
  },
  "language_info": {
   "codemirror_mode": {
    "name": "ipython",
    "version": 3
   },
   "file_extension": ".py",
   "mimetype": "text/x-python",
   "name": "python",
   "nbconvert_exporter": "python",
   "pygments_lexer": "ipython3",
   "version": "3.10.12"
  },
  "orig_nbformat": 4
 },
 "nbformat": 4,
 "nbformat_minor": 2
}
