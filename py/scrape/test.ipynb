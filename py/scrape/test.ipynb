{
 "cells": [
  {
   "cell_type": "markdown",
   "metadata": {},
   "source": [
    "\n",
    "\\u201d: Representasi karakter unicode untuk tanda kutip bergelombang tertutup (”).\n",
    "\n",
    "\\u0022: Representasi karakter unicode untuk tanda kutip ganda (\").\n",
    "\n",
    "\\u0027: Representasi karakter unicode untuk tanda kutip tunggal (').\n",
    "\n",
    "\\u0026: Representasi karakter unicode untuk tanda &.\n",
    "\n",
    "\\u003c: Representasi karakter unicode untuk tanda <.\n",
    "\n",
    "\\u003e: Representasi karakter unicode untuk tanda >."
   ]
  },
  {
   "cell_type": "code",
   "execution_count": null,
   "metadata": {},
   "outputs": [],
   "source": [
    "from _main  import Get; alpha = Get()\n",
    "from bs4    import BeautifulSoup as bs4\n",
    "from dotenv import load_dotenv\n",
    "from os     import system as command\n",
    "import mysql.connector\n",
    "import requests\n",
    "import json\n",
    "import os\n",
    "\n",
    "# data = alpha.get_all_paragraf(prn=True)"
   ]
  },
  {
   "cell_type": "code",
   "execution_count": null,
   "metadata": {},
   "outputs": [],
   "source": [
    "load_dotenv(\"../../.env\")\n",
    "with mysql.connector.connect(\n",
    "    username=os.getenv(\"DB_USERNAME\"),\n",
    "    password=os.getenv(\"DB_PASSWORD\"),\n",
    "    database=os.getenv(\"DB_USE\")\n",
    ") as conn:\n",
    "    with conn.cursor() as cur:\n",
    "        # cur.execute(f\"UPDATE kate SET paragraph='{json.dumps(paragraf)}' WHERE volume={v} AND segment='{segment}';\")\n",
    "        for volume,segment_all in enumerate([i for i in [i.keys() for i in alpha.segment.values()]]):\n",
    "            for segment in segment_all:\n",
    "                data_json = json.dumps(data[volume][segment])\n",
    "                query = \"UPDATE kate SET paragraph = %s WHERE volume = %s AND segment = %s\"\n",
    "                # cur.execute(f'UPDATE kate SET paragraph=\"{data_json}\" WHERE volume={volume+1} AND segment=\"{segment}\"')\n",
    "                values = (data_json,volume+1,segment)\n",
    "                cur.execute(query,values)\n",
    "    conn.commit()\n"
   ]
  },
  {
   "cell_type": "code",
   "execution_count": null,
   "metadata": {},
   "outputs": [],
   "source": [
    "from _main import *\n",
    "from dotenv import load_dotenv\n",
    "import os\n",
    "load_dotenv(\"../../.env\")\n",
    "\n",
    "Insert.connect(\n",
    "    host=\"localhost\",\n",
    "    username=os.getenv(\"DB_USERNAME\"),\n",
    "    password=os.getenv(\"DB_PASSWORD\"),\n",
    "    database=os.getenv(\"DB_USE\")\n",
    ")\n",
    "\n",
    "Database.status()"
   ]
  },
  {
   "cell_type": "code",
   "execution_count": 2,
   "metadata": {},
   "outputs": [
    {
     "ename": "SyntaxError",
     "evalue": "positional argument follows keyword argument (1755062803.py, line 3)",
     "output_type": "error",
     "traceback": [
      "\u001b[0;36m  Cell \u001b[0;32mIn[2], line 3\u001b[0;36m\u001b[0m\n\u001b[0;31m    alpha.dimage_all(cover=False,\"/home/user/Desktop/Ill\")\u001b[0m\n\u001b[0m                                                         ^\u001b[0m\n\u001b[0;31mSyntaxError\u001b[0m\u001b[0;31m:\u001b[0m positional argument follows keyword argument\n"
     ]
    }
   ],
   "source": [
    "from _main import Get; alpha = Get()\n",
    "\n",
    "alpha.dimage_all(\"/home/user/Desktop/Ill\",False)"
   ]
  }
 ],
 "metadata": {
  "kernelspec": {
   "display_name": "Python 3 (ipykernel)",
   "language": "python",
   "name": "python3"
  },
  "language_info": {
   "codemirror_mode": {
    "name": "ipython",
    "version": 3
   },
   "file_extension": ".py",
   "mimetype": "text/x-python",
   "name": "python",
   "nbconvert_exporter": "python",
   "pygments_lexer": "ipython3",
   "version": "3.10.6"
  },
  "orig_nbformat": 4
 },
 "nbformat": 4,
 "nbformat_minor": 2
}
