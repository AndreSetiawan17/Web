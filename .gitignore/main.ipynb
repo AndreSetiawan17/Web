{
 "cells": [
  {
   "cell_type": "code",
   "execution_count": null,
   "metadata": {},
   "outputs": [],
   "source": [
    "from bs4 import BeautifulSoup\n",
    "import requests\n",
    "\n",
    "link = \"https://musworldnovel.wordpress.com/2021/04/06/light-novel-kage-no-jitsuryokusha-ni-naritakute-vol-1-chapter-2-bahasa-indonesia/\"\n",
    "req = requests.get(link)\n",
    "if req.status_code != 200:\n",
    "    print(req)\n",
    "    exit(req.status_code)\n",
    "\n",
    "soup = BeautifulSoup(req.text,\"html.parser\")"
   ]
  },
  {
   "cell_type": "code",
   "execution_count": null,
   "metadata": {},
   "outputs": [],
   "source": [
    "paragraf = [i.find_all(\"p\") for i in soup.find_all(\"div\",\"entry-content\")][0]\n",
    "paragraf = [i.text + \"<br><br><br>\" for i in paragraf if len(i) > 0]\n",
    "\n",
    "for i in paragraf:\n",
    "    print(i)"
   ]
  }
 ],
 "metadata": {
  "kernelspec": {
   "display_name": "Python 3",
   "language": "python",
   "name": "python3"
  },
  "language_info": {
   "codemirror_mode": {
    "name": "ipython",
    "version": 3
   },
   "file_extension": ".py",
   "mimetype": "text/x-python",
   "name": "python",
   "nbconvert_exporter": "python",
   "pygments_lexer": "ipython3",
   "version": "3.10.6"
  },
  "orig_nbformat": 4
 },
 "nbformat": 4,
 "nbformat_minor": 2
}
